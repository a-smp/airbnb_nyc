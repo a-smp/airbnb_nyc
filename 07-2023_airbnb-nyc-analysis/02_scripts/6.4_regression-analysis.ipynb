{
 "cells": [
  {
   "cell_type": "markdown",
   "metadata": {},
   "source": [
    "# CONTENTS\n",
    "1. IMPORTING LIBRARIES/DATA\n",
    "\n",
    "2. DATA OVERVIEW\n",
    "\n",
    "3. DATA PREP FOR REGRESSION ANALYSIS\n",
    "\n",
    "4. REGRESSION ANALYSIS"
   ]
  },
  {
   "cell_type": "markdown",
   "metadata": {},
   "source": [
    "# IMPORTING LIBRARIES/DATA"
   ]
  },
  {
   "cell_type": "code",
   "execution_count": 1,
   "metadata": {},
   "outputs": [],
   "source": [
    "# import libraries\n",
    "import numpy as np\n",
    "import pandas as pd\n",
    "import seaborn as sns\n",
    "import matplotlib\n",
    "import matplotlib.pyplot as plt\n",
    "import os\n",
    "import sklearn\n",
    "from sklearn.model_selection import train_test_split\n",
    "from sklearn.linear_model import LinearRegression\n",
    "from sklearn.metrics import mean_squared_error, r2_score"
   ]
  },
  {
   "cell_type": "code",
   "execution_count": 2,
   "metadata": {},
   "outputs": [],
   "source": [
    "# initialize path variable\n",
    "path = r'/Users/smac_/Documents/Courses/CF Data Analytics Program/Data Immersion/Achievement 6/07-2023 NYC Airbnb Market Analysis'"
   ]
  },
  {
   "cell_type": "code",
   "execution_count": 3,
   "metadata": {},
   "outputs": [],
   "source": [
    "# import data\n",
    "df = pd.read_pickle(os.path.join(path, '02 Data', 'Processed Data', 'listings_clean.pkl'))"
   ]
  },
  {
   "cell_type": "code",
   "execution_count": 4,
   "metadata": {},
   "outputs": [],
   "source": [
    "# display charts in notebook without \"calling\" them\n",
    "%matplotlib inline"
   ]
  },
  {
   "cell_type": "markdown",
   "metadata": {},
   "source": [
    "# DATA OVERVIEW"
   ]
  },
  {
   "cell_type": "code",
   "execution_count": 5,
   "metadata": {},
   "outputs": [
    {
     "data": {
      "text/html": [
       "<div>\n",
       "<style scoped>\n",
       "    .dataframe tbody tr th:only-of-type {\n",
       "        vertical-align: middle;\n",
       "    }\n",
       "\n",
       "    .dataframe tbody tr th {\n",
       "        vertical-align: top;\n",
       "    }\n",
       "\n",
       "    .dataframe thead th {\n",
       "        text-align: right;\n",
       "    }\n",
       "</style>\n",
       "<table border=\"1\" class=\"dataframe\">\n",
       "  <thead>\n",
       "    <tr style=\"text-align: right;\">\n",
       "      <th></th>\n",
       "      <th>id</th>\n",
       "      <th>host_id</th>\n",
       "      <th>nbhd_group</th>\n",
       "      <th>nbhd</th>\n",
       "      <th>latitude</th>\n",
       "      <th>longitude</th>\n",
       "      <th>room_type</th>\n",
       "      <th>price</th>\n",
       "      <th>min_nights</th>\n",
       "      <th>reviews_count</th>\n",
       "      <th>last_review</th>\n",
       "      <th>monthly_reviews</th>\n",
       "      <th>host_list_count</th>\n",
       "      <th>availability_365</th>\n",
       "      <th>reviews_count_ltm</th>\n",
       "    </tr>\n",
       "  </thead>\n",
       "  <tbody>\n",
       "    <tr>\n",
       "      <th>0</th>\n",
       "      <td>5121</td>\n",
       "      <td>7356</td>\n",
       "      <td>Brooklyn</td>\n",
       "      <td>Bedford-Stuyvesant</td>\n",
       "      <td>40.68535</td>\n",
       "      <td>-73.95512</td>\n",
       "      <td>Private room</td>\n",
       "      <td>60</td>\n",
       "      <td>30</td>\n",
       "      <td>50</td>\n",
       "      <td>2019-12-02</td>\n",
       "      <td>0.29</td>\n",
       "      <td>2</td>\n",
       "      <td>0</td>\n",
       "      <td>0</td>\n",
       "    </tr>\n",
       "    <tr>\n",
       "      <th>1</th>\n",
       "      <td>2595</td>\n",
       "      <td>2845</td>\n",
       "      <td>Manhattan</td>\n",
       "      <td>Midtown</td>\n",
       "      <td>40.75356</td>\n",
       "      <td>-73.98559</td>\n",
       "      <td>Entire home/apt</td>\n",
       "      <td>240</td>\n",
       "      <td>30</td>\n",
       "      <td>49</td>\n",
       "      <td>2022-06-21</td>\n",
       "      <td>0.30</td>\n",
       "      <td>3</td>\n",
       "      <td>325</td>\n",
       "      <td>1</td>\n",
       "    </tr>\n",
       "    <tr>\n",
       "      <th>2</th>\n",
       "      <td>14991</td>\n",
       "      <td>59023</td>\n",
       "      <td>Manhattan</td>\n",
       "      <td>Lower East Side</td>\n",
       "      <td>40.72207</td>\n",
       "      <td>-73.98976</td>\n",
       "      <td>Private room</td>\n",
       "      <td>120</td>\n",
       "      <td>5</td>\n",
       "      <td>22</td>\n",
       "      <td>2023-05-14</td>\n",
       "      <td>0.14</td>\n",
       "      <td>1</td>\n",
       "      <td>268</td>\n",
       "      <td>3</td>\n",
       "    </tr>\n",
       "    <tr>\n",
       "      <th>3</th>\n",
       "      <td>5136</td>\n",
       "      <td>7378</td>\n",
       "      <td>Brooklyn</td>\n",
       "      <td>Sunset Park</td>\n",
       "      <td>40.66265</td>\n",
       "      <td>-73.99454</td>\n",
       "      <td>Entire home/apt</td>\n",
       "      <td>276</td>\n",
       "      <td>21</td>\n",
       "      <td>3</td>\n",
       "      <td>2022-08-10</td>\n",
       "      <td>0.03</td>\n",
       "      <td>1</td>\n",
       "      <td>275</td>\n",
       "      <td>1</td>\n",
       "    </tr>\n",
       "    <tr>\n",
       "      <th>4</th>\n",
       "      <td>59709</td>\n",
       "      <td>186084</td>\n",
       "      <td>Manhattan</td>\n",
       "      <td>Chinatown</td>\n",
       "      <td>40.71780</td>\n",
       "      <td>-73.99320</td>\n",
       "      <td>Entire home/apt</td>\n",
       "      <td>325</td>\n",
       "      <td>7</td>\n",
       "      <td>69</td>\n",
       "      <td>2023-04-28</td>\n",
       "      <td>0.47</td>\n",
       "      <td>1</td>\n",
       "      <td>38</td>\n",
       "      <td>23</td>\n",
       "    </tr>\n",
       "  </tbody>\n",
       "</table>\n",
       "</div>"
      ],
      "text/plain": [
       "      id  host_id nbhd_group                nbhd  latitude  longitude  \\\n",
       "0   5121     7356   Brooklyn  Bedford-Stuyvesant  40.68535  -73.95512   \n",
       "1   2595     2845  Manhattan             Midtown  40.75356  -73.98559   \n",
       "2  14991    59023  Manhattan     Lower East Side  40.72207  -73.98976   \n",
       "3   5136     7378   Brooklyn         Sunset Park  40.66265  -73.99454   \n",
       "4  59709   186084  Manhattan           Chinatown  40.71780  -73.99320   \n",
       "\n",
       "         room_type  price  min_nights  reviews_count last_review  \\\n",
       "0     Private room     60          30             50  2019-12-02   \n",
       "1  Entire home/apt    240          30             49  2022-06-21   \n",
       "2     Private room    120           5             22  2023-05-14   \n",
       "3  Entire home/apt    276          21              3  2022-08-10   \n",
       "4  Entire home/apt    325           7             69  2023-04-28   \n",
       "\n",
       "   monthly_reviews  host_list_count  availability_365  reviews_count_ltm  \n",
       "0             0.29                2                 0                  0  \n",
       "1             0.30                3               325                  1  \n",
       "2             0.14                1               268                  3  \n",
       "3             0.03                1               275                  1  \n",
       "4             0.47                1                38                 23  "
      ]
     },
     "execution_count": 5,
     "metadata": {},
     "output_type": "execute_result"
    }
   ],
   "source": [
    "# first 5 rows\n",
    "df.head()"
   ]
  },
  {
   "cell_type": "code",
   "execution_count": 6,
   "metadata": {},
   "outputs": [
    {
     "data": {
      "text/html": [
       "<div>\n",
       "<style scoped>\n",
       "    .dataframe tbody tr th:only-of-type {\n",
       "        vertical-align: middle;\n",
       "    }\n",
       "\n",
       "    .dataframe tbody tr th {\n",
       "        vertical-align: top;\n",
       "    }\n",
       "\n",
       "    .dataframe thead th {\n",
       "        text-align: right;\n",
       "    }\n",
       "</style>\n",
       "<table border=\"1\" class=\"dataframe\">\n",
       "  <thead>\n",
       "    <tr style=\"text-align: right;\">\n",
       "      <th></th>\n",
       "      <th>id</th>\n",
       "      <th>host_id</th>\n",
       "      <th>nbhd_group</th>\n",
       "      <th>nbhd</th>\n",
       "      <th>latitude</th>\n",
       "      <th>longitude</th>\n",
       "      <th>room_type</th>\n",
       "      <th>price</th>\n",
       "      <th>min_nights</th>\n",
       "      <th>reviews_count</th>\n",
       "      <th>last_review</th>\n",
       "      <th>monthly_reviews</th>\n",
       "      <th>host_list_count</th>\n",
       "      <th>availability_365</th>\n",
       "      <th>reviews_count_ltm</th>\n",
       "    </tr>\n",
       "  </thead>\n",
       "  <tbody>\n",
       "    <tr>\n",
       "      <th>43561</th>\n",
       "      <td>905031073149861760</td>\n",
       "      <td>86368678</td>\n",
       "      <td>Brooklyn</td>\n",
       "      <td>Canarsie</td>\n",
       "      <td>40.633458</td>\n",
       "      <td>-73.899472</td>\n",
       "      <td>Entire home/apt</td>\n",
       "      <td>208</td>\n",
       "      <td>3</td>\n",
       "      <td>0</td>\n",
       "      <td>Unavailable</td>\n",
       "      <td>0.0</td>\n",
       "      <td>3</td>\n",
       "      <td>358</td>\n",
       "      <td>0</td>\n",
       "    </tr>\n",
       "    <tr>\n",
       "      <th>43562</th>\n",
       "      <td>905038362467988591</td>\n",
       "      <td>52064945</td>\n",
       "      <td>Brooklyn</td>\n",
       "      <td>Park Slope</td>\n",
       "      <td>40.677256</td>\n",
       "      <td>-73.981435</td>\n",
       "      <td>Private room</td>\n",
       "      <td>530</td>\n",
       "      <td>30</td>\n",
       "      <td>0</td>\n",
       "      <td>Unavailable</td>\n",
       "      <td>0.0</td>\n",
       "      <td>1</td>\n",
       "      <td>270</td>\n",
       "      <td>0</td>\n",
       "    </tr>\n",
       "    <tr>\n",
       "      <th>43563</th>\n",
       "      <td>905066559607295258</td>\n",
       "      <td>22541573</td>\n",
       "      <td>Manhattan</td>\n",
       "      <td>East Village</td>\n",
       "      <td>40.732530</td>\n",
       "      <td>-73.989880</td>\n",
       "      <td>Entire home/apt</td>\n",
       "      <td>382</td>\n",
       "      <td>30</td>\n",
       "      <td>0</td>\n",
       "      <td>Unavailable</td>\n",
       "      <td>0.0</td>\n",
       "      <td>132</td>\n",
       "      <td>288</td>\n",
       "      <td>0</td>\n",
       "    </tr>\n",
       "    <tr>\n",
       "      <th>43564</th>\n",
       "      <td>905077900484113845</td>\n",
       "      <td>151692758</td>\n",
       "      <td>Brooklyn</td>\n",
       "      <td>Canarsie</td>\n",
       "      <td>40.638210</td>\n",
       "      <td>-73.915920</td>\n",
       "      <td>Entire home/apt</td>\n",
       "      <td>199</td>\n",
       "      <td>2</td>\n",
       "      <td>0</td>\n",
       "      <td>Unavailable</td>\n",
       "      <td>0.0</td>\n",
       "      <td>1</td>\n",
       "      <td>155</td>\n",
       "      <td>0</td>\n",
       "    </tr>\n",
       "    <tr>\n",
       "      <th>43565</th>\n",
       "      <td>905109354552786380</td>\n",
       "      <td>25138314</td>\n",
       "      <td>Manhattan</td>\n",
       "      <td>Midtown</td>\n",
       "      <td>40.765086</td>\n",
       "      <td>-73.976717</td>\n",
       "      <td>Private room</td>\n",
       "      <td>662</td>\n",
       "      <td>1</td>\n",
       "      <td>0</td>\n",
       "      <td>Unavailable</td>\n",
       "      <td>0.0</td>\n",
       "      <td>116</td>\n",
       "      <td>250</td>\n",
       "      <td>0</td>\n",
       "    </tr>\n",
       "  </tbody>\n",
       "</table>\n",
       "</div>"
      ],
      "text/plain": [
       "                       id    host_id nbhd_group          nbhd   latitude  \\\n",
       "43561  905031073149861760   86368678   Brooklyn      Canarsie  40.633458   \n",
       "43562  905038362467988591   52064945   Brooklyn    Park Slope  40.677256   \n",
       "43563  905066559607295258   22541573  Manhattan  East Village  40.732530   \n",
       "43564  905077900484113845  151692758   Brooklyn      Canarsie  40.638210   \n",
       "43565  905109354552786380   25138314  Manhattan       Midtown  40.765086   \n",
       "\n",
       "       longitude        room_type  price  min_nights  reviews_count  \\\n",
       "43561 -73.899472  Entire home/apt    208           3              0   \n",
       "43562 -73.981435     Private room    530          30              0   \n",
       "43563 -73.989880  Entire home/apt    382          30              0   \n",
       "43564 -73.915920  Entire home/apt    199           2              0   \n",
       "43565 -73.976717     Private room    662           1              0   \n",
       "\n",
       "       last_review  monthly_reviews  host_list_count  availability_365  \\\n",
       "43561  Unavailable              0.0                3               358   \n",
       "43562  Unavailable              0.0                1               270   \n",
       "43563  Unavailable              0.0              132               288   \n",
       "43564  Unavailable              0.0                1               155   \n",
       "43565  Unavailable              0.0              116               250   \n",
       "\n",
       "       reviews_count_ltm  \n",
       "43561                  0  \n",
       "43562                  0  \n",
       "43563                  0  \n",
       "43564                  0  \n",
       "43565                  0  "
      ]
     },
     "execution_count": 6,
     "metadata": {},
     "output_type": "execute_result"
    }
   ],
   "source": [
    "# last 5 rows\n",
    "df.tail()"
   ]
  },
  {
   "cell_type": "code",
   "execution_count": 7,
   "metadata": {},
   "outputs": [
    {
     "data": {
      "text/plain": [
       "id                     int64\n",
       "host_id                int64\n",
       "nbhd_group            object\n",
       "nbhd                  object\n",
       "latitude             float64\n",
       "longitude            float64\n",
       "room_type             object\n",
       "price                  int64\n",
       "min_nights             int64\n",
       "reviews_count          int64\n",
       "last_review           object\n",
       "monthly_reviews      float64\n",
       "host_list_count        int64\n",
       "availability_365       int64\n",
       "reviews_count_ltm      int64\n",
       "dtype: object"
      ]
     },
     "execution_count": 7,
     "metadata": {},
     "output_type": "execute_result"
    }
   ],
   "source": [
    "# column names and data types\n",
    "df.dtypes"
   ]
  },
  {
   "cell_type": "code",
   "execution_count": 8,
   "metadata": {},
   "outputs": [
    {
     "data": {
      "text/plain": [
       "(43555, 15)"
      ]
     },
     "execution_count": 8,
     "metadata": {},
     "output_type": "execute_result"
    }
   ],
   "source": [
    "# DataFrame size\n",
    "df.shape"
   ]
  },
  {
   "cell_type": "markdown",
   "metadata": {},
   "source": [
    "# DATA PREP FOR REGRESSION ANALYSIS"
   ]
  },
  {
   "cell_type": "markdown",
   "metadata": {},
   "source": [
    "## HYPOTHESIS\n",
    "As the minimum required booked nights increase, there is a corresponding decrease in the number of monthly reviews per listing."
   ]
  },
  {
   "cell_type": "markdown",
   "metadata": {},
   "source": [
    "## UNALTERED VARIABLES"
   ]
  },
  {
   "cell_type": "code",
   "execution_count": 9,
   "metadata": {},
   "outputs": [
    {
     "data": {
      "image/png": "[encoded data removed]",
      "text/plain": [
       "<Figure size 640x480 with 1 Axes>"
      ]
     },
     "metadata": {},
     "output_type": "display_data"
    }
   ],
   "source": [
    "# generate scatterplot to review how the chosen variables plot against each other\n",
    "df.plot(x='min_nights', y='monthly_reviews', style='o')\n",
    "plt.title('Minimum Nights vs. Monthly Reviews')  \n",
    "plt.xlabel('Minimun Nights')  \n",
    "plt.ylabel('Monthly Reviews')  \n",
    "plt.show()"
   ]
  },
  {
   "cell_type": "code",
   "execution_count": 10,
   "metadata": {},
   "outputs": [],
   "source": [
    "# reshape selected variables into NumPy arrays\n",
    "X_unaltered = df['min_nights'].values.reshape(-1, 1)\n",
    "y_unaltered = df['monthly_reviews'].values.reshape(-1, 1)"
   ]
  },
  {
   "cell_type": "code",
   "execution_count": 11,
   "metadata": {},
   "outputs": [
    {
     "data": {
      "text/plain": [
       "array([[30],\n",
       "       [30],\n",
       "       [ 5],\n",
       "       ...,\n",
       "       [30],\n",
       "       [ 2],\n",
       "       [ 1]])"
      ]
     },
     "execution_count": 11,
     "metadata": {},
     "output_type": "execute_result"
    }
   ],
   "source": [
    "X_unaltered"
   ]
  },
  {
   "cell_type": "code",
   "execution_count": 12,
   "metadata": {},
   "outputs": [
    {
     "data": {
      "text/plain": [
       "array([[0.29],\n",
       "       [0.3 ],\n",
       "       [0.14],\n",
       "       ...,\n",
       "       [0.  ],\n",
       "       [0.  ],\n",
       "       [0.  ]])"
      ]
     },
     "execution_count": 12,
     "metadata": {},
     "output_type": "execute_result"
    }
   ],
   "source": [
    "y_unaltered"
   ]
  },
  {
   "cell_type": "code",
   "execution_count": 13,
   "metadata": {},
   "outputs": [],
   "source": [
    "# split data into training set & test set\n",
    "X_unaltered_train, X_unaltered_test, y_unaltered_train, y_unaltered_test = train_test_split(X_unaltered, y_unaltered, test_size=0.3, random_state=0)"
   ]
  },
  {
   "cell_type": "markdown",
   "metadata": {},
   "source": [
    "## ALTERED VARIABLES (OUTLIER REMOVAL)"
   ]
  },
  {
   "cell_type": "code",
   "execution_count": 14,
   "metadata": {},
   "outputs": [
    {
     "name": "stdout",
     "output_type": "stream",
     "text": [
      "28.0\n"
     ]
    }
   ],
   "source": [
    "# calculate the IQR of 'min_nights'\n",
    "min_nights_q1 = df['min_nights'].quantile(0.25)\n",
    "min_nights_q3 = df['min_nights'].quantile(0.75)\n",
    "min_nights_IQR = min_nights_q3 - min_nights_q1\n",
    "print(min_nights_IQR)"
   ]
  },
  {
   "cell_type": "code",
   "execution_count": 15,
   "metadata": {},
   "outputs": [
    {
     "name": "stdout",
     "output_type": "stream",
     "text": [
      "72.0\n"
     ]
    }
   ],
   "source": [
    "# define upper and lower bounds for outliers in 'min_nights'\n",
    "min_nights_spread = 1.5 * min_nights_IQR\n",
    "min_nights_upper_bound = min_nights_q3 + min_nights_spread\n",
    "min_nights_lower_bound = min_nights_q1 - min_nights_spread\n",
    "print(min_nights_upper_bound)"
   ]
  },
  {
   "cell_type": "code",
   "execution_count": 16,
   "metadata": {},
   "outputs": [
    {
     "name": "stdout",
     "output_type": "stream",
     "text": [
      "1.26\n"
     ]
    }
   ],
   "source": [
    "# calculate the IQR of 'monthly_reviews'\n",
    "monthly_reviews_q1 = df['monthly_reviews'].quantile(0.25)\n",
    "monthly_reviews_q3 = df['monthly_reviews'].quantile(0.75)\n",
    "monthly_reviews_IQR = monthly_reviews_q3 - monthly_reviews_q1\n",
    "print(monthly_reviews_IQR)"
   ]
  },
  {
   "cell_type": "code",
   "execution_count": 17,
   "metadata": {},
   "outputs": [
    {
     "name": "stdout",
     "output_type": "stream",
     "text": [
      "3.16\n"
     ]
    }
   ],
   "source": [
    "# define upper and lower bounds for outliers in 'monthly_reviews'\n",
    "monthly_reviews_spread = 1.5 * monthly_reviews_IQR\n",
    "monthly_reviews_upper_bound = monthly_reviews_q3 + monthly_reviews_spread\n",
    "monthly_reviews_lower_bound = monthly_reviews_q1 - monthly_reviews_spread\n",
    "print(monthly_reviews_upper_bound)"
   ]
  },
  {
   "cell_type": "code",
   "execution_count": 18,
   "metadata": {},
   "outputs": [],
   "source": [
    "# initialize DataFrame without outliers in 'min_nights' & 'monthly_reviews'\n",
    "df_test = df[(df['min_nights'] <= min_nights_upper_bound) & (df['monthly_reviews'] <= monthly_reviews_upper_bound)]"
   ]
  },
  {
   "cell_type": "code",
   "execution_count": 19,
   "metadata": {},
   "outputs": [
    {
     "data": {
      "image/png": "[encoded data removed]",
      "text/plain": [
       "<Figure size 640x480 with 1 Axes>"
      ]
     },
     "metadata": {},
     "output_type": "display_data"
    }
   ],
   "source": [
    "# generate scatterplot to review how the chosen variables plot against each other\n",
    "df_test.plot(x='min_nights', y='monthly_reviews', style='o')\n",
    "plt.title('Minimum Nights vs. Monthly Reviews')  \n",
    "plt.xlabel('Minimun Nights')  \n",
    "plt.ylabel('Monthly Reviews')  \n",
    "plt.show()"
   ]
  },
  {
   "cell_type": "code",
   "execution_count": 20,
   "metadata": {},
   "outputs": [],
   "source": [
    "# reshape selected variables into NumPy arrays\n",
    "X_altered = df_test['min_nights'].values.reshape(-1, 1)\n",
    "y_altered = df_test['monthly_reviews'].values.reshape(-1, 1)"
   ]
  },
  {
   "cell_type": "code",
   "execution_count": 21,
   "metadata": {},
   "outputs": [
    {
     "data": {
      "text/plain": [
       "array([[30],\n",
       "       [30],\n",
       "       [ 5],\n",
       "       ...,\n",
       "       [30],\n",
       "       [ 2],\n",
       "       [ 1]])"
      ]
     },
     "execution_count": 21,
     "metadata": {},
     "output_type": "execute_result"
    }
   ],
   "source": [
    "X_altered"
   ]
  },
  {
   "cell_type": "code",
   "execution_count": 22,
   "metadata": {},
   "outputs": [
    {
     "data": {
      "text/plain": [
       "array([[0.29],\n",
       "       [0.3 ],\n",
       "       [0.14],\n",
       "       ...,\n",
       "       [0.  ],\n",
       "       [0.  ],\n",
       "       [0.  ]])"
      ]
     },
     "execution_count": 22,
     "metadata": {},
     "output_type": "execute_result"
    }
   ],
   "source": [
    "y_altered"
   ]
  },
  {
   "cell_type": "code",
   "execution_count": 23,
   "metadata": {},
   "outputs": [],
   "source": [
    "# split data into training set & test set\n",
    "X_altered_train, X_altered_test, y_altered_train, y_altered_test = train_test_split(X_altered, y_altered, test_size=0.3, random_state=0)"
   ]
  },
  {
   "cell_type": "markdown",
   "metadata": {},
   "source": [
    "# REGRESSION ANALYSIS"
   ]
  },
  {
   "cell_type": "markdown",
   "metadata": {},
   "source": [
    "## UNALTERED SET"
   ]
  },
  {
   "cell_type": "code",
   "execution_count": 24,
   "metadata": {},
   "outputs": [],
   "source": [
    "# initialize regression object\n",
    "regression_unaltered = LinearRegression()"
   ]
  },
  {
   "cell_type": "code",
   "execution_count": 25,
   "metadata": {},
   "outputs": [
    {
     "data": {
      "text/html": [
       "<style>#sk-container-id-1 {color: black;background-color: white;}#sk-container-id-1 pre{padding: 0;}#sk-container-id-1 div.sk-toggleable {background-color: white;}#sk-container-id-1 label.sk-toggleable__label {cursor: pointer;display: block;width: 100%;margin-bottom: 0;padding: 0.3em;box-sizing: border-box;text-align: center;}#sk-container-id-1 label.sk-toggleable__label-arrow:before {content: \"▸\";float: left;margin-right: 0.25em;color: #696969;}#sk-container-id-1 label.sk-toggleable__label-arrow:hover:before {color: black;}#sk-container-id-1 div.sk-estimator:hover label.sk-toggleable__label-arrow:before {color: black;}#sk-container-id-1 div.sk-toggleable__content {max-height: 0;max-width: 0;overflow: hidden;text-align: left;background-color: #f0f8ff;}#sk-container-id-1 div.sk-toggleable__content pre {margin: 0.2em;color: black;border-radius: 0.25em;background-color: #f0f8ff;}#sk-container-id-1 input.sk-toggleable__control:checked~div.sk-toggleable__content {max-height: 200px;max-width: 100%;overflow: auto;}#sk-container-id-1 input.sk-toggleable__control:checked~label.sk-toggleable__label-arrow:before {content: \"▾\";}#sk-container-id-1 div.sk-estimator input.sk-toggleable__control:checked~label.sk-toggleable__label {background-color: #d4ebff;}#sk-container-id-1 div.sk-label input.sk-toggleable__control:checked~label.sk-toggleable__label {background-color: #d4ebff;}#sk-container-id-1 input.sk-hidden--visually {border: 0;clip: rect(1px 1px 1px 1px);clip: rect(1px, 1px, 1px, 1px);height: 1px;margin: -1px;overflow: hidden;padding: 0;position: absolute;width: 1px;}#sk-container-id-1 div.sk-estimator {font-family: monospace;background-color: #f0f8ff;border: 1px dotted black;border-radius: 0.25em;box-sizing: border-box;margin-bottom: 0.5em;}#sk-container-id-1 div.sk-estimator:hover {background-color: #d4ebff;}#sk-container-id-1 div.sk-parallel-item::after {content: \"\";width: 100%;border-bottom: 1px solid gray;flex-grow: 1;}#sk-container-id-1 div.sk-label:hover label.sk-toggleable__label {background-color: #d4ebff;}#sk-container-id-1 div.sk-serial::before {content: \"\";position: absolute;border-left: 1px solid gray;box-sizing: border-box;top: 0;bottom: 0;left: 50%;z-index: 0;}#sk-container-id-1 div.sk-serial {display: flex;flex-direction: column;align-items: center;background-color: white;padding-right: 0.2em;padding-left: 0.2em;position: relative;}#sk-container-id-1 div.sk-item {position: relative;z-index: 1;}#sk-container-id-1 div.sk-parallel {display: flex;align-items: stretch;justify-content: center;background-color: white;position: relative;}#sk-container-id-1 div.sk-item::before, #sk-container-id-1 div.sk-parallel-item::before {content: \"\";position: absolute;border-left: 1px solid gray;box-sizing: border-box;top: 0;bottom: 0;left: 50%;z-index: -1;}#sk-container-id-1 div.sk-parallel-item {display: flex;flex-direction: column;z-index: 1;position: relative;background-color: white;}#sk-container-id-1 div.sk-parallel-item:first-child::after {align-self: flex-end;width: 50%;}#sk-container-id-1 div.sk-parallel-item:last-child::after {align-self: flex-start;width: 50%;}#sk-container-id-1 div.sk-parallel-item:only-child::after {width: 0;}#sk-container-id-1 div.sk-dashed-wrapped {border: 1px dashed gray;margin: 0 0.4em 0.5em 0.4em;box-sizing: border-box;padding-bottom: 0.4em;background-color: white;}#sk-container-id-1 div.sk-label label {font-family: monospace;font-weight: bold;display: inline-block;line-height: 1.2em;}#sk-container-id-1 div.sk-label-container {text-align: center;}#sk-container-id-1 div.sk-container {/* jupyter's `normalize.less` sets `[hidden] { display: none; }` but bootstrap.min.css set `[hidden] { display: none !important; }` so we also need the `!important` here to be able to override the default hidden behavior on the sphinx rendered scikit-learn.org. See: https://github.com/scikit-learn/scikit-learn/issues/21755 */display: inline-block !important;position: relative;}#sk-container-id-1 div.sk-text-repr-fallback {display: none;}</style><div id=\"sk-container-id-1\" class=\"sk-top-container\"><div class=\"sk-text-repr-fallback\"><pre>LinearRegression()</pre><b>In a Jupyter environment, please rerun this cell to show the HTML representation or trust the notebook. <br />On GitHub, the HTML representation is unable to render, please try loading this page with nbviewer.org.</b></div><div class=\"sk-container\" hidden><div class=\"sk-item\"><div class=\"sk-estimator sk-toggleable\"><input class=\"sk-toggleable__control sk-hidden--visually\" id=\"sk-estimator-id-1\" type=\"checkbox\" checked><label for=\"sk-estimator-id-1\" class=\"sk-toggleable__label sk-toggleable__label-arrow\">LinearRegression</label><div class=\"sk-toggleable__content\"><pre>LinearRegression()</pre></div></div></div></div></div>"
      ],
      "text/plain": [
       "LinearRegression()"
      ]
     },
     "execution_count": 25,
     "metadata": {},
     "output_type": "execute_result"
    }
   ],
   "source": [
    "# fit regression object onto training set\n",
    "regression_unaltered.fit(X_unaltered_train, y_unaltered_train)"
   ]
  },
  {
   "cell_type": "markdown",
   "metadata": {},
   "source": [
    "### APPLY MODEL TO TEST SET"
   ]
  },
  {
   "cell_type": "code",
   "execution_count": 26,
   "metadata": {},
   "outputs": [],
   "source": [
    "# predict the values of y (dependent) using X (independent)\n",
    "y_unaltered_predicted = regression_unaltered.predict(X_unaltered_test)"
   ]
  },
  {
   "cell_type": "code",
   "execution_count": 27,
   "metadata": {},
   "outputs": [
    {
     "data": {
      "image/png": "[encoded data removed]",
      "text/plain": [
       "<Figure size 640x480 with 1 Axes>"
      ]
     },
     "metadata": {},
     "output_type": "display_data"
    }
   ],
   "source": [
    "# generate plot to visualize model's regression line on test set\n",
    "\n",
    "plot_unaltered_test = plt\n",
    "plot_unaltered_test.scatter(X_unaltered_test, y_unaltered_test, color='g', s=15)\n",
    "plot_unaltered_test.plot(X_unaltered_test, y_unaltered_predicted, color='red', linewidth=3)\n",
    "plot_unaltered_test.title('Minimum Nights vs Monthly Reviews (Unaltered Test Set)')\n",
    "plot_unaltered_test.xlabel('Minimun Nights')\n",
    "plot_unaltered_test.ylabel('Monthly Reviews')\n",
    "plot_unaltered_test.show()"
   ]
  },
  {
   "cell_type": "markdown",
   "metadata": {},
   "source": [
    "The regression line applied to these variables does not seem to adequately capture the data within the training set. A non-linear distribution is evident between `'min_nights'` and `'monthly_reviews'`, with a concentration of data points skewed towards the left side of the graph. This observation highlights the model's lack of accuracy in representing the underlying relationship."
   ]
  },
  {
   "cell_type": "code",
   "execution_count": 28,
   "metadata": {},
   "outputs": [],
   "source": [
    "# create objects that contain model's summary stats\n",
    "rmse_test_unaltered = mean_squared_error(y_unaltered_test, y_unaltered_predicted)\n",
    "r2_test_unaltered = r2_score(y_unaltered_test, y_unaltered_predicted)"
   ]
  },
  {
   "cell_type": "code",
   "execution_count": 29,
   "metadata": {},
   "outputs": [
    {
     "name": "stdout",
     "output_type": "stream",
     "text": [
      "Slope: [[-0.01744191]]\n",
      "Mean Squared Error: 2.942541894300463\n",
      "R2 Score: 0.06762062819926407\n"
     ]
    }
   ],
   "source": [
    "# print model's summary stats to evaluate performance\n",
    "print ('Slope:' , regression_unaltered.coef_)\n",
    "print('Mean Squared Error:' , rmse_test_unaltered)\n",
    "print('R2 Score:' , r2_test_unaltered)"
   ]
  },
  {
   "cell_type": "code",
   "execution_count": 30,
   "metadata": {},
   "outputs": [
    {
     "data": {
      "text/html": [
       "<div>\n",
       "<style scoped>\n",
       "    .dataframe tbody tr th:only-of-type {\n",
       "        vertical-align: middle;\n",
       "    }\n",
       "\n",
       "    .dataframe tbody tr th {\n",
       "        vertical-align: top;\n",
       "    }\n",
       "\n",
       "    .dataframe thead th {\n",
       "        text-align: right;\n",
       "    }\n",
       "</style>\n",
       "<table border=\"1\" class=\"dataframe\">\n",
       "  <thead>\n",
       "    <tr style=\"text-align: right;\">\n",
       "      <th></th>\n",
       "      <th>Actual</th>\n",
       "      <th>Predicted</th>\n",
       "    </tr>\n",
       "  </thead>\n",
       "  <tbody>\n",
       "    <tr>\n",
       "      <th>0</th>\n",
       "      <td>0.22</td>\n",
       "      <td>0.200924</td>\n",
       "    </tr>\n",
       "    <tr>\n",
       "      <th>1</th>\n",
       "      <td>0.18</td>\n",
       "      <td>0.724181</td>\n",
       "    </tr>\n",
       "    <tr>\n",
       "      <th>2</th>\n",
       "      <td>2.13</td>\n",
       "      <td>1.212554</td>\n",
       "    </tr>\n",
       "    <tr>\n",
       "      <th>3</th>\n",
       "      <td>3.67</td>\n",
       "      <td>1.229996</td>\n",
       "    </tr>\n",
       "    <tr>\n",
       "      <th>4</th>\n",
       "      <td>3.75</td>\n",
       "      <td>1.229996</td>\n",
       "    </tr>\n",
       "    <tr>\n",
       "      <th>5</th>\n",
       "      <td>0.02</td>\n",
       "      <td>0.724181</td>\n",
       "    </tr>\n",
       "    <tr>\n",
       "      <th>6</th>\n",
       "      <td>0.19</td>\n",
       "      <td>1.177671</td>\n",
       "    </tr>\n",
       "    <tr>\n",
       "      <th>7</th>\n",
       "      <td>0.04</td>\n",
       "      <td>0.811390</td>\n",
       "    </tr>\n",
       "    <tr>\n",
       "      <th>8</th>\n",
       "      <td>3.63</td>\n",
       "      <td>1.212554</td>\n",
       "    </tr>\n",
       "    <tr>\n",
       "      <th>9</th>\n",
       "      <td>1.69</td>\n",
       "      <td>1.177671</td>\n",
       "    </tr>\n",
       "    <tr>\n",
       "      <th>10</th>\n",
       "      <td>0.43</td>\n",
       "      <td>1.212554</td>\n",
       "    </tr>\n",
       "    <tr>\n",
       "      <th>11</th>\n",
       "      <td>0.78</td>\n",
       "      <td>1.195112</td>\n",
       "    </tr>\n",
       "    <tr>\n",
       "      <th>12</th>\n",
       "      <td>0.55</td>\n",
       "      <td>1.003251</td>\n",
       "    </tr>\n",
       "    <tr>\n",
       "      <th>13</th>\n",
       "      <td>2.39</td>\n",
       "      <td>1.160229</td>\n",
       "    </tr>\n",
       "    <tr>\n",
       "      <th>14</th>\n",
       "      <td>3.27</td>\n",
       "      <td>1.229996</td>\n",
       "    </tr>\n",
       "    <tr>\n",
       "      <th>15</th>\n",
       "      <td>0.05</td>\n",
       "      <td>1.229996</td>\n",
       "    </tr>\n",
       "    <tr>\n",
       "      <th>16</th>\n",
       "      <td>0.53</td>\n",
       "      <td>0.724181</td>\n",
       "    </tr>\n",
       "    <tr>\n",
       "      <th>17</th>\n",
       "      <td>1.00</td>\n",
       "      <td>0.724181</td>\n",
       "    </tr>\n",
       "    <tr>\n",
       "      <th>18</th>\n",
       "      <td>1.22</td>\n",
       "      <td>1.177671</td>\n",
       "    </tr>\n",
       "    <tr>\n",
       "      <th>19</th>\n",
       "      <td>0.00</td>\n",
       "      <td>0.724181</td>\n",
       "    </tr>\n",
       "    <tr>\n",
       "      <th>20</th>\n",
       "      <td>0.00</td>\n",
       "      <td>1.160229</td>\n",
       "    </tr>\n",
       "    <tr>\n",
       "      <th>21</th>\n",
       "      <td>0.00</td>\n",
       "      <td>1.229996</td>\n",
       "    </tr>\n",
       "    <tr>\n",
       "      <th>22</th>\n",
       "      <td>2.23</td>\n",
       "      <td>1.212554</td>\n",
       "    </tr>\n",
       "    <tr>\n",
       "      <th>23</th>\n",
       "      <td>2.40</td>\n",
       "      <td>1.229996</td>\n",
       "    </tr>\n",
       "    <tr>\n",
       "      <th>24</th>\n",
       "      <td>1.07</td>\n",
       "      <td>1.160229</td>\n",
       "    </tr>\n",
       "    <tr>\n",
       "      <th>25</th>\n",
       "      <td>0.12</td>\n",
       "      <td>0.724181</td>\n",
       "    </tr>\n",
       "    <tr>\n",
       "      <th>26</th>\n",
       "      <td>0.02</td>\n",
       "      <td>0.724181</td>\n",
       "    </tr>\n",
       "    <tr>\n",
       "      <th>27</th>\n",
       "      <td>0.05</td>\n",
       "      <td>0.724181</td>\n",
       "    </tr>\n",
       "    <tr>\n",
       "      <th>28</th>\n",
       "      <td>0.00</td>\n",
       "      <td>0.724181</td>\n",
       "    </tr>\n",
       "    <tr>\n",
       "      <th>29</th>\n",
       "      <td>0.76</td>\n",
       "      <td>1.229996</td>\n",
       "    </tr>\n",
       "  </tbody>\n",
       "</table>\n",
       "</div>"
      ],
      "text/plain": [
       "    Actual  Predicted\n",
       "0     0.22   0.200924\n",
       "1     0.18   0.724181\n",
       "2     2.13   1.212554\n",
       "3     3.67   1.229996\n",
       "4     3.75   1.229996\n",
       "5     0.02   0.724181\n",
       "6     0.19   1.177671\n",
       "7     0.04   0.811390\n",
       "8     3.63   1.212554\n",
       "9     1.69   1.177671\n",
       "10    0.43   1.212554\n",
       "11    0.78   1.195112\n",
       "12    0.55   1.003251\n",
       "13    2.39   1.160229\n",
       "14    3.27   1.229996\n",
       "15    0.05   1.229996\n",
       "16    0.53   0.724181\n",
       "17    1.00   0.724181\n",
       "18    1.22   1.177671\n",
       "19    0.00   0.724181\n",
       "20    0.00   1.160229\n",
       "21    0.00   1.229996\n",
       "22    2.23   1.212554\n",
       "23    2.40   1.229996\n",
       "24    1.07   1.160229\n",
       "25    0.12   0.724181\n",
       "26    0.02   0.724181\n",
       "27    0.05   0.724181\n",
       "28    0.00   0.724181\n",
       "29    0.76   1.229996"
      ]
     },
     "execution_count": 30,
     "metadata": {},
     "output_type": "execute_result"
    }
   ],
   "source": [
    "# initialize DataFrame comparing the actual and predicted values of y\n",
    "compare_unaltered = pd.DataFrame({'Actual' : y_unaltered_test.flatten(), 'Predicted' : y_unaltered_predicted.flatten()})\n",
    "compare_unaltered.head(30)"
   ]
  },
  {
   "cell_type": "markdown",
   "metadata": {},
   "source": [
    "### APPLY MODEL TO TRAINING SET"
   ]
  },
  {
   "cell_type": "code",
   "execution_count": 31,
   "metadata": {},
   "outputs": [],
   "source": [
    "# predict the values of y (dependent) using X (independent) on TRAINING set to evaluate accuracy\n",
    "y_unaltered_predicted_train = regression_unaltered.predict(X_unaltered_train)"
   ]
  },
  {
   "cell_type": "code",
   "execution_count": 32,
   "metadata": {},
   "outputs": [
    {
     "data": {
      "image/png": "[encoded data removed]",
      "text/plain": [
       "<Figure size 640x480 with 1 Axes>"
      ]
     },
     "metadata": {},
     "output_type": "display_data"
    }
   ],
   "source": [
    "# generate plot to visualize model's regression line on test set\n",
    "\n",
    "plot_unaltered_train = plt\n",
    "plot_unaltered_train.scatter(X_unaltered_train, y_unaltered_train, color='g', s=15)\n",
    "plot_unaltered_train.plot(X_unaltered_train, y_unaltered_predicted_train, color='r', linewidth=3)\n",
    "plot_unaltered_train.title('Minimum Nights vs Monthly Reviews (Unaltered Train Set)')\n",
    "plot_unaltered_train.xlabel('Minimun Nights')\n",
    "plot_unaltered_train.ylabel('Monthly Reviews')\n",
    "plot_unaltered_train.show()"
   ]
  },
  {
   "cell_type": "code",
   "execution_count": 33,
   "metadata": {},
   "outputs": [],
   "source": [
    "# create objects that contain model's summary stats\n",
    "rmse_train_unaltered = mean_squared_error(y_unaltered_train, y_unaltered_predicted_train)\n",
    "r2_train_unaltered = r2_score(y_unaltered_train, y_unaltered_predicted_train)"
   ]
  },
  {
   "cell_type": "code",
   "execution_count": 34,
   "metadata": {},
   "outputs": [
    {
     "name": "stdout",
     "output_type": "stream",
     "text": [
      "Slope: [[-0.01744191]]\n",
      "Mean Squared Error: 2.264412062264117\n",
      "R2 Score: 0.07998355951560865\n"
     ]
    }
   ],
   "source": [
    "# print model's summary stats to evaluate performance\n",
    "print ('Slope:' , regression_unaltered.coef_)\n",
    "print('Mean Squared Error:' , rmse_train_unaltered)\n",
    "print('R2 Score:' , r2_train_unaltered)"
   ]
  },
  {
   "cell_type": "markdown",
   "metadata": {},
   "source": [
    "## PERFORMANCE INTERPRETATION\n",
    "\n",
    "* The slope value validates a subtle negative relationship between the variables.\n",
    "* The notable magnitude of the Mean Squared Error (MSE) implies that the model's predictions exhibit considerable deviations from the actual values.\n",
    "* With an R-squared value of around 7%, the model's accuracy is minimal. This outcome signifies an inadequate fit, rendering it essentially incapable of effectively predicting the dependent variable."
   ]
  },
  {
   "cell_type": "markdown",
   "metadata": {},
   "source": [
    "## ALTERED SET"
   ]
  },
  {
   "cell_type": "code",
   "execution_count": 35,
   "metadata": {},
   "outputs": [],
   "source": [
    "# initialize regression object\n",
    "regression_altered = LinearRegression()"
   ]
  },
  {
   "cell_type": "code",
   "execution_count": 36,
   "metadata": {},
   "outputs": [
    {
     "data": {
      "text/html": [
       "<style>#sk-container-id-2 {color: black;background-color: white;}#sk-container-id-2 pre{padding: 0;}#sk-container-id-2 div.sk-toggleable {background-color: white;}#sk-container-id-2 label.sk-toggleable__label {cursor: pointer;display: block;width: 100%;margin-bottom: 0;padding: 0.3em;box-sizing: border-box;text-align: center;}#sk-container-id-2 label.sk-toggleable__label-arrow:before {content: \"▸\";float: left;margin-right: 0.25em;color: #696969;}#sk-container-id-2 label.sk-toggleable__label-arrow:hover:before {color: black;}#sk-container-id-2 div.sk-estimator:hover label.sk-toggleable__label-arrow:before {color: black;}#sk-container-id-2 div.sk-toggleable__content {max-height: 0;max-width: 0;overflow: hidden;text-align: left;background-color: #f0f8ff;}#sk-container-id-2 div.sk-toggleable__content pre {margin: 0.2em;color: black;border-radius: 0.25em;background-color: #f0f8ff;}#sk-container-id-2 input.sk-toggleable__control:checked~div.sk-toggleable__content {max-height: 200px;max-width: 100%;overflow: auto;}#sk-container-id-2 input.sk-toggleable__control:checked~label.sk-toggleable__label-arrow:before {content: \"▾\";}#sk-container-id-2 div.sk-estimator input.sk-toggleable__control:checked~label.sk-toggleable__label {background-color: #d4ebff;}#sk-container-id-2 div.sk-label input.sk-toggleable__control:checked~label.sk-toggleable__label {background-color: #d4ebff;}#sk-container-id-2 input.sk-hidden--visually {border: 0;clip: rect(1px 1px 1px 1px);clip: rect(1px, 1px, 1px, 1px);height: 1px;margin: -1px;overflow: hidden;padding: 0;position: absolute;width: 1px;}#sk-container-id-2 div.sk-estimator {font-family: monospace;background-color: #f0f8ff;border: 1px dotted black;border-radius: 0.25em;box-sizing: border-box;margin-bottom: 0.5em;}#sk-container-id-2 div.sk-estimator:hover {background-color: #d4ebff;}#sk-container-id-2 div.sk-parallel-item::after {content: \"\";width: 100%;border-bottom: 1px solid gray;flex-grow: 1;}#sk-container-id-2 div.sk-label:hover label.sk-toggleable__label {background-color: #d4ebff;}#sk-container-id-2 div.sk-serial::before {content: \"\";position: absolute;border-left: 1px solid gray;box-sizing: border-box;top: 0;bottom: 0;left: 50%;z-index: 0;}#sk-container-id-2 div.sk-serial {display: flex;flex-direction: column;align-items: center;background-color: white;padding-right: 0.2em;padding-left: 0.2em;position: relative;}#sk-container-id-2 div.sk-item {position: relative;z-index: 1;}#sk-container-id-2 div.sk-parallel {display: flex;align-items: stretch;justify-content: center;background-color: white;position: relative;}#sk-container-id-2 div.sk-item::before, #sk-container-id-2 div.sk-parallel-item::before {content: \"\";position: absolute;border-left: 1px solid gray;box-sizing: border-box;top: 0;bottom: 0;left: 50%;z-index: -1;}#sk-container-id-2 div.sk-parallel-item {display: flex;flex-direction: column;z-index: 1;position: relative;background-color: white;}#sk-container-id-2 div.sk-parallel-item:first-child::after {align-self: flex-end;width: 50%;}#sk-container-id-2 div.sk-parallel-item:last-child::after {align-self: flex-start;width: 50%;}#sk-container-id-2 div.sk-parallel-item:only-child::after {width: 0;}#sk-container-id-2 div.sk-dashed-wrapped {border: 1px dashed gray;margin: 0 0.4em 0.5em 0.4em;box-sizing: border-box;padding-bottom: 0.4em;background-color: white;}#sk-container-id-2 div.sk-label label {font-family: monospace;font-weight: bold;display: inline-block;line-height: 1.2em;}#sk-container-id-2 div.sk-label-container {text-align: center;}#sk-container-id-2 div.sk-container {/* jupyter's `normalize.less` sets `[hidden] { display: none; }` but bootstrap.min.css set `[hidden] { display: none !important; }` so we also need the `!important` here to be able to override the default hidden behavior on the sphinx rendered scikit-learn.org. See: https://github.com/scikit-learn/scikit-learn/issues/21755 */display: inline-block !important;position: relative;}#sk-container-id-2 div.sk-text-repr-fallback {display: none;}</style><div id=\"sk-container-id-2\" class=\"sk-top-container\"><div class=\"sk-text-repr-fallback\"><pre>LinearRegression()</pre><b>In a Jupyter environment, please rerun this cell to show the HTML representation or trust the notebook. <br />On GitHub, the HTML representation is unable to render, please try loading this page with nbviewer.org.</b></div><div class=\"sk-container\" hidden><div class=\"sk-item\"><div class=\"sk-estimator sk-toggleable\"><input class=\"sk-toggleable__control sk-hidden--visually\" id=\"sk-estimator-id-2\" type=\"checkbox\" checked><label for=\"sk-estimator-id-2\" class=\"sk-toggleable__label sk-toggleable__label-arrow\">LinearRegression</label><div class=\"sk-toggleable__content\"><pre>LinearRegression()</pre></div></div></div></div></div>"
      ],
      "text/plain": [
       "LinearRegression()"
      ]
     },
     "execution_count": 36,
     "metadata": {},
     "output_type": "execute_result"
    }
   ],
   "source": [
    "# fit regression object onto training set\n",
    "regression_altered.fit(X_altered_train, y_altered_train)"
   ]
  },
  {
   "cell_type": "markdown",
   "metadata": {},
   "source": [
    "### APPLY MODEL TO TEST SET"
   ]
  },
  {
   "cell_type": "code",
   "execution_count": 37,
   "metadata": {},
   "outputs": [],
   "source": [
    "# predict the values of y (dependent) using X (independent)\n",
    "y_altered_predicted = regression_altered.predict(X_altered_test)"
   ]
  },
  {
   "cell_type": "code",
   "execution_count": 38,
   "metadata": {},
   "outputs": [
    {
     "data": {
      "image/png": "[encoded data removed]",
      "text/plain": [
       "<Figure size 640x480 with 1 Axes>"
      ]
     },
     "metadata": {},
     "output_type": "display_data"
    }
   ],
   "source": [
    "# generate plot to visualize model's regression line on test set\n",
    "\n",
    "plot_altered_test = plt\n",
    "plot_altered_test.scatter(X_altered_test, y_altered_test, color='k', s=15)\n",
    "plot_altered_test.plot(X_altered_test, y_altered_predicted, color='red', linewidth=3)\n",
    "plot_altered_test.title('Minimum Nights vs Monthly Reviews (Altered Test Set)')\n",
    "plot_altered_test.xlabel('Minimun Nights')\n",
    "plot_altered_test.ylabel('Monthly Reviews')\n",
    "plot_altered_test.show()"
   ]
  },
  {
   "cell_type": "markdown",
   "metadata": {},
   "source": [
    "By eliminating outliers from both variables, a profound shift occurs in the distribution of data points, enabling a more precise comprehension of the plot's patterns. Nevertheless, the regression line still falls short in effectively encompassing the training set's data, exhibiting only marginal improvement compared to the unaltered dataset. Notably, the most significant cluster of data points becomes more discernible, primarily situated where X spans from 0 to 10. This reaffirms the model's inadequacy in accommodating this specific set of variables."
   ]
  },
  {
   "cell_type": "code",
   "execution_count": 39,
   "metadata": {},
   "outputs": [],
   "source": [
    "# create objects that contain model's summary stats\n",
    "rmse_test_altered = mean_squared_error(y_altered_test, y_altered_predicted)\n",
    "r2_test_altered = r2_score(y_altered_test, y_altered_predicted)"
   ]
  },
  {
   "cell_type": "code",
   "execution_count": 40,
   "metadata": {},
   "outputs": [
    {
     "name": "stdout",
     "output_type": "stream",
     "text": [
      "Slope: [[-0.02730039]]\n",
      "Mean Squared Error: 0.5132140145987499\n",
      "R2 Score: 0.22657914756612374\n"
     ]
    }
   ],
   "source": [
    "# print model's summary stats to evaluate performance\n",
    "print ('Slope:' , regression_altered.coef_)\n",
    "print('Mean Squared Error:' , rmse_test_altered)\n",
    "print('R2 Score:' , r2_test_altered)"
   ]
  },
  {
   "cell_type": "code",
   "execution_count": 41,
   "metadata": {},
   "outputs": [
    {
     "data": {
      "text/html": [
       "<div>\n",
       "<style scoped>\n",
       "    .dataframe tbody tr th:only-of-type {\n",
       "        vertical-align: middle;\n",
       "    }\n",
       "\n",
       "    .dataframe tbody tr th {\n",
       "        vertical-align: top;\n",
       "    }\n",
       "\n",
       "    .dataframe thead th {\n",
       "        text-align: right;\n",
       "    }\n",
       "</style>\n",
       "<table border=\"1\" class=\"dataframe\">\n",
       "  <thead>\n",
       "    <tr style=\"text-align: right;\">\n",
       "      <th></th>\n",
       "      <th>Actual</th>\n",
       "      <th>Predicted</th>\n",
       "    </tr>\n",
       "  </thead>\n",
       "  <tbody>\n",
       "    <tr>\n",
       "      <th>0</th>\n",
       "      <td>0.00</td>\n",
       "      <td>0.246777</td>\n",
       "    </tr>\n",
       "    <tr>\n",
       "      <th>1</th>\n",
       "      <td>0.22</td>\n",
       "      <td>0.246777</td>\n",
       "    </tr>\n",
       "    <tr>\n",
       "      <th>2</th>\n",
       "      <td>0.17</td>\n",
       "      <td>0.246777</td>\n",
       "    </tr>\n",
       "    <tr>\n",
       "      <th>3</th>\n",
       "      <td>2.92</td>\n",
       "      <td>1.011188</td>\n",
       "    </tr>\n",
       "    <tr>\n",
       "      <th>4</th>\n",
       "      <td>2.37</td>\n",
       "      <td>0.929286</td>\n",
       "    </tr>\n",
       "    <tr>\n",
       "      <th>5</th>\n",
       "      <td>0.00</td>\n",
       "      <td>1.038488</td>\n",
       "    </tr>\n",
       "    <tr>\n",
       "      <th>6</th>\n",
       "      <td>0.08</td>\n",
       "      <td>0.246777</td>\n",
       "    </tr>\n",
       "    <tr>\n",
       "      <th>7</th>\n",
       "      <td>0.00</td>\n",
       "      <td>0.246777</td>\n",
       "    </tr>\n",
       "    <tr>\n",
       "      <th>8</th>\n",
       "      <td>0.00</td>\n",
       "      <td>1.038488</td>\n",
       "    </tr>\n",
       "    <tr>\n",
       "      <th>9</th>\n",
       "      <td>0.01</td>\n",
       "      <td>0.246777</td>\n",
       "    </tr>\n",
       "    <tr>\n",
       "      <th>10</th>\n",
       "      <td>0.30</td>\n",
       "      <td>0.246777</td>\n",
       "    </tr>\n",
       "    <tr>\n",
       "      <th>11</th>\n",
       "      <td>0.29</td>\n",
       "      <td>1.038488</td>\n",
       "    </tr>\n",
       "    <tr>\n",
       "      <th>12</th>\n",
       "      <td>0.75</td>\n",
       "      <td>0.246777</td>\n",
       "    </tr>\n",
       "    <tr>\n",
       "      <th>13</th>\n",
       "      <td>0.00</td>\n",
       "      <td>0.246777</td>\n",
       "    </tr>\n",
       "    <tr>\n",
       "      <th>14</th>\n",
       "      <td>1.00</td>\n",
       "      <td>1.038488</td>\n",
       "    </tr>\n",
       "    <tr>\n",
       "      <th>15</th>\n",
       "      <td>0.00</td>\n",
       "      <td>1.011188</td>\n",
       "    </tr>\n",
       "    <tr>\n",
       "      <th>16</th>\n",
       "      <td>0.45</td>\n",
       "      <td>0.246777</td>\n",
       "    </tr>\n",
       "    <tr>\n",
       "      <th>17</th>\n",
       "      <td>0.58</td>\n",
       "      <td>0.983887</td>\n",
       "    </tr>\n",
       "    <tr>\n",
       "      <th>18</th>\n",
       "      <td>0.00</td>\n",
       "      <td>0.246777</td>\n",
       "    </tr>\n",
       "    <tr>\n",
       "      <th>19</th>\n",
       "      <td>1.03</td>\n",
       "      <td>1.011188</td>\n",
       "    </tr>\n",
       "    <tr>\n",
       "      <th>20</th>\n",
       "      <td>0.00</td>\n",
       "      <td>1.038488</td>\n",
       "    </tr>\n",
       "    <tr>\n",
       "      <th>21</th>\n",
       "      <td>1.79</td>\n",
       "      <td>0.246777</td>\n",
       "    </tr>\n",
       "    <tr>\n",
       "      <th>22</th>\n",
       "      <td>0.04</td>\n",
       "      <td>0.246777</td>\n",
       "    </tr>\n",
       "    <tr>\n",
       "      <th>23</th>\n",
       "      <td>0.26</td>\n",
       "      <td>0.246777</td>\n",
       "    </tr>\n",
       "    <tr>\n",
       "      <th>24</th>\n",
       "      <td>0.94</td>\n",
       "      <td>0.901986</td>\n",
       "    </tr>\n",
       "    <tr>\n",
       "      <th>25</th>\n",
       "      <td>0.00</td>\n",
       "      <td>1.038488</td>\n",
       "    </tr>\n",
       "    <tr>\n",
       "      <th>26</th>\n",
       "      <td>1.23</td>\n",
       "      <td>0.983887</td>\n",
       "    </tr>\n",
       "    <tr>\n",
       "      <th>27</th>\n",
       "      <td>0.98</td>\n",
       "      <td>0.929286</td>\n",
       "    </tr>\n",
       "    <tr>\n",
       "      <th>28</th>\n",
       "      <td>0.00</td>\n",
       "      <td>0.246777</td>\n",
       "    </tr>\n",
       "    <tr>\n",
       "      <th>29</th>\n",
       "      <td>2.21</td>\n",
       "      <td>0.246777</td>\n",
       "    </tr>\n",
       "  </tbody>\n",
       "</table>\n",
       "</div>"
      ],
      "text/plain": [
       "    Actual  Predicted\n",
       "0     0.00   0.246777\n",
       "1     0.22   0.246777\n",
       "2     0.17   0.246777\n",
       "3     2.92   1.011188\n",
       "4     2.37   0.929286\n",
       "5     0.00   1.038488\n",
       "6     0.08   0.246777\n",
       "7     0.00   0.246777\n",
       "8     0.00   1.038488\n",
       "9     0.01   0.246777\n",
       "10    0.30   0.246777\n",
       "11    0.29   1.038488\n",
       "12    0.75   0.246777\n",
       "13    0.00   0.246777\n",
       "14    1.00   1.038488\n",
       "15    0.00   1.011188\n",
       "16    0.45   0.246777\n",
       "17    0.58   0.983887\n",
       "18    0.00   0.246777\n",
       "19    1.03   1.011188\n",
       "20    0.00   1.038488\n",
       "21    1.79   0.246777\n",
       "22    0.04   0.246777\n",
       "23    0.26   0.246777\n",
       "24    0.94   0.901986\n",
       "25    0.00   1.038488\n",
       "26    1.23   0.983887\n",
       "27    0.98   0.929286\n",
       "28    0.00   0.246777\n",
       "29    2.21   0.246777"
      ]
     },
     "execution_count": 41,
     "metadata": {},
     "output_type": "execute_result"
    }
   ],
   "source": [
    "# initialize DataFrame comparing the actual and predicted values of y\n",
    "compare_altered = pd.DataFrame({'Actual' : y_altered_test.flatten(), 'Predicted' : y_altered_predicted.flatten()})\n",
    "compare_altered.head(30)"
   ]
  },
  {
   "cell_type": "markdown",
   "metadata": {},
   "source": [
    "### APPLY MODEL TO TRAINING SET"
   ]
  },
  {
   "cell_type": "code",
   "execution_count": 42,
   "metadata": {},
   "outputs": [],
   "source": [
    "# predict the values of y (dependent) using X (independent) on TRAINING set to evaluate accuracy\n",
    "y_altered_predicted_train = regression_altered.predict(X_altered_train)"
   ]
  },
  {
   "cell_type": "code",
   "execution_count": 43,
   "metadata": {},
   "outputs": [
    {
     "data": {
      "image/png": "[encoded data removed]",
      "text/plain": [
       "<Figure size 640x480 with 1 Axes>"
      ]
     },
     "metadata": {},
     "output_type": "display_data"
    }
   ],
   "source": [
    "# generate plot to visualize model's regression line on test set\n",
    "\n",
    "plot_altered_train = plt\n",
    "plot_altered_train.scatter(X_altered_train, y_altered_train, color='k', s=15)\n",
    "plot_altered_train.plot(X_altered_train, y_altered_predicted_train, color='red', linewidth=3)\n",
    "plot_altered_train.title('Minimum Nights vs Monthly Reviews (Altered Train Set)')\n",
    "plot_altered_train.xlabel('Minimun Nights')\n",
    "plot_altered_train.ylabel('Monthly Reviews')\n",
    "plot_altered_train.show()"
   ]
  },
  {
   "cell_type": "code",
   "execution_count": 44,
   "metadata": {},
   "outputs": [],
   "source": [
    "# create objects that contain model's summary stats\n",
    "rmse_train_altered = mean_squared_error(y_altered_train, y_altered_predicted_train)\n",
    "r2_train_altered = r2_score(y_altered_train, y_altered_predicted_train)"
   ]
  },
  {
   "cell_type": "code",
   "execution_count": 45,
   "metadata": {},
   "outputs": [
    {
     "name": "stdout",
     "output_type": "stream",
     "text": [
      "Slope: [[-0.02730039]]\n",
      "Mean Squared Error: 0.5155674962897078\n",
      "R2 Score: 0.22083341544812385\n"
     ]
    }
   ],
   "source": [
    "# print model's summary stats to evaluate performance\n",
    "print ('Slope:' , regression_altered.coef_)\n",
    "print('Mean Squared Error:' , rmse_train_altered)\n",
    "print('R2 Score:' , r2_train_altered)"
   ]
  },
  {
   "cell_type": "markdown",
   "metadata": {},
   "source": [
    "## PERFORMANCE INTERPRETATION\n",
    "\n",
    "* The slope value remains consistent when constrasted with the unaltered set.\n",
    "* There is a notable decrease in the Mean Squared Error compared to the unaltered dataset, signifying an enhanced predictive performance with reduced discrepancies between predictions and actual values.\n",
    "* The R-squared value experiences a notable increase, ascending from 7% to 22% when outliers are excluded from the variables. Nonetheless, despite this improvement, the score remains notably deficient and falls short of being considered a reliable fit."
   ]
  }
 ],
 "metadata": {
  "kernelspec": {
   "display_name": "base",
   "language": "python",
   "name": "python3"
  },
  "language_info": {
   "codemirror_mode": {
    "name": "ipython",
    "version": 3
   },
   "file_extension": ".py",
   "mimetype": "text/x-python",
   "name": "python",
   "nbconvert_exporter": "python",
   "pygments_lexer": "ipython3",
   "version": "3.10.9"
  },
  "orig_nbformat": 4
 },
 "nbformat": 4,
 "nbformat_minor": 2
}
